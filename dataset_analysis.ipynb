{
 "cells": [
  {
   "cell_type": "code",
   "execution_count": 3,
   "metadata": {},
   "outputs": [],
   "source": [
    "import pandas as pd\n",
    "import numpy as np"
   ]
  },
  {
   "cell_type": "code",
   "execution_count": 4,
   "metadata": {},
   "outputs": [],
   "source": [
    "raw_data = pd.read_csv(\"data\\Beach_Weather_Stations_-_Automated_Sensors.csv\\Beach_Weather_Stations_-_Automated_Sensors.csv\")"
   ]
  },
  {
   "cell_type": "code",
   "execution_count": null,
   "metadata": {},
   "outputs": [
    {
     "data": {
      "text/html": [
       "<div>\n",
       "<style scoped>\n",
       "    .dataframe tbody tr th:only-of-type {\n",
       "        vertical-align: middle;\n",
       "    }\n",
       "\n",
       "    .dataframe tbody tr th {\n",
       "        vertical-align: top;\n",
       "    }\n",
       "\n",
       "    .dataframe thead th {\n",
       "        text-align: right;\n",
       "    }\n",
       "</style>\n",
       "<table border=\"1\" class=\"dataframe\">\n",
       "  <thead>\n",
       "    <tr style=\"text-align: right;\">\n",
       "      <th></th>\n",
       "      <th>Station Name</th>\n",
       "      <th>Measurement Timestamp</th>\n",
       "      <th>Air Temperature</th>\n",
       "      <th>Wet Bulb Temperature</th>\n",
       "      <th>Humidity</th>\n",
       "      <th>Rain Intensity</th>\n",
       "      <th>Interval Rain</th>\n",
       "      <th>Total Rain</th>\n",
       "      <th>Precipitation Type</th>\n",
       "      <th>Wind Direction</th>\n",
       "      <th>Wind Speed</th>\n",
       "      <th>Maximum Wind Speed</th>\n",
       "      <th>Barometric Pressure</th>\n",
       "      <th>Solar Radiation</th>\n",
       "      <th>Heading</th>\n",
       "      <th>Battery Life</th>\n",
       "      <th>Measurement Timestamp Label</th>\n",
       "      <th>Measurement ID</th>\n",
       "    </tr>\n",
       "  </thead>\n",
       "  <tbody>\n",
       "    <tr>\n",
       "      <th>0</th>\n",
       "      <td>63rd Street Weather Station</td>\n",
       "      <td>09/27/2018 10:00:00 AM</td>\n",
       "      <td>16.40</td>\n",
       "      <td>12.2</td>\n",
       "      <td>61</td>\n",
       "      <td>0.0</td>\n",
       "      <td>0.0</td>\n",
       "      <td>260.3</td>\n",
       "      <td>0.0</td>\n",
       "      <td>231</td>\n",
       "      <td>2.5</td>\n",
       "      <td>4.7</td>\n",
       "      <td>996.3</td>\n",
       "      <td>484</td>\n",
       "      <td>356.0</td>\n",
       "      <td>11.9</td>\n",
       "      <td>09/27/2018 10:00 AM</td>\n",
       "      <td>63rdStreetWeatherStation201809271000</td>\n",
       "    </tr>\n",
       "    <tr>\n",
       "      <th>1</th>\n",
       "      <td>63rd Street Weather Station</td>\n",
       "      <td>09/27/2018 11:00:00 AM</td>\n",
       "      <td>17.10</td>\n",
       "      <td>11.5</td>\n",
       "      <td>51</td>\n",
       "      <td>0.0</td>\n",
       "      <td>0.0</td>\n",
       "      <td>260.3</td>\n",
       "      <td>0.0</td>\n",
       "      <td>244</td>\n",
       "      <td>3.6</td>\n",
       "      <td>5.7</td>\n",
       "      <td>995.4</td>\n",
       "      <td>468</td>\n",
       "      <td>356.0</td>\n",
       "      <td>11.9</td>\n",
       "      <td>09/27/2018 11:00 AM</td>\n",
       "      <td>63rdStreetWeatherStation201809271100</td>\n",
       "    </tr>\n",
       "    <tr>\n",
       "      <th>2</th>\n",
       "      <td>63rd Street Weather Station</td>\n",
       "      <td>09/27/2018 01:00:00 PM</td>\n",
       "      <td>18.20</td>\n",
       "      <td>12.4</td>\n",
       "      <td>51</td>\n",
       "      <td>0.0</td>\n",
       "      <td>0.0</td>\n",
       "      <td>260.3</td>\n",
       "      <td>0.0</td>\n",
       "      <td>248</td>\n",
       "      <td>3.1</td>\n",
       "      <td>5.3</td>\n",
       "      <td>994.8</td>\n",
       "      <td>377</td>\n",
       "      <td>355.0</td>\n",
       "      <td>11.9</td>\n",
       "      <td>09/27/2018 1:00 PM</td>\n",
       "      <td>63rdStreetWeatherStation201809271300</td>\n",
       "    </tr>\n",
       "    <tr>\n",
       "      <th>3</th>\n",
       "      <td>Foster Weather Station</td>\n",
       "      <td>09/27/2018 01:00:00 PM</td>\n",
       "      <td>17.89</td>\n",
       "      <td>NaN</td>\n",
       "      <td>39</td>\n",
       "      <td>NaN</td>\n",
       "      <td>0.0</td>\n",
       "      <td>NaN</td>\n",
       "      <td>NaN</td>\n",
       "      <td>249</td>\n",
       "      <td>1.4</td>\n",
       "      <td>2.3</td>\n",
       "      <td>993.6</td>\n",
       "      <td>0</td>\n",
       "      <td>NaN</td>\n",
       "      <td>15.1</td>\n",
       "      <td>09/27/2018 1:00 PM</td>\n",
       "      <td>FosterWeatherStation201809271300</td>\n",
       "    </tr>\n",
       "    <tr>\n",
       "      <th>4</th>\n",
       "      <td>63rd Street Weather Station</td>\n",
       "      <td>09/27/2018 03:00:00 PM</td>\n",
       "      <td>19.50</td>\n",
       "      <td>13.0</td>\n",
       "      <td>47</td>\n",
       "      <td>0.0</td>\n",
       "      <td>0.0</td>\n",
       "      <td>260.3</td>\n",
       "      <td>0.0</td>\n",
       "      <td>249</td>\n",
       "      <td>3.1</td>\n",
       "      <td>5.7</td>\n",
       "      <td>992.9</td>\n",
       "      <td>461</td>\n",
       "      <td>355.0</td>\n",
       "      <td>11.9</td>\n",
       "      <td>09/27/2018 3:00 PM</td>\n",
       "      <td>63rdStreetWeatherStation201809271500</td>\n",
       "    </tr>\n",
       "  </tbody>\n",
       "</table>\n",
       "</div>"
      ],
      "text/plain": [
       "                  Station Name   Measurement Timestamp  Air Temperature  \\\n",
       "0  63rd Street Weather Station  09/27/2018 10:00:00 AM            16.40   \n",
       "1  63rd Street Weather Station  09/27/2018 11:00:00 AM            17.10   \n",
       "2  63rd Street Weather Station  09/27/2018 01:00:00 PM            18.20   \n",
       "3       Foster Weather Station  09/27/2018 01:00:00 PM            17.89   \n",
       "4  63rd Street Weather Station  09/27/2018 03:00:00 PM            19.50   \n",
       "\n",
       "   Wet Bulb Temperature  Humidity  Rain Intensity  Interval Rain  Total Rain  \\\n",
       "0                  12.2        61             0.0            0.0       260.3   \n",
       "1                  11.5        51             0.0            0.0       260.3   \n",
       "2                  12.4        51             0.0            0.0       260.3   \n",
       "3                   NaN        39             NaN            0.0         NaN   \n",
       "4                  13.0        47             0.0            0.0       260.3   \n",
       "\n",
       "   Precipitation Type  Wind Direction  Wind Speed  Maximum Wind Speed  \\\n",
       "0                 0.0             231         2.5                 4.7   \n",
       "1                 0.0             244         3.6                 5.7   \n",
       "2                 0.0             248         3.1                 5.3   \n",
       "3                 NaN             249         1.4                 2.3   \n",
       "4                 0.0             249         3.1                 5.7   \n",
       "\n",
       "   Barometric Pressure  Solar Radiation  Heading  Battery Life  \\\n",
       "0                996.3              484    356.0          11.9   \n",
       "1                995.4              468    356.0          11.9   \n",
       "2                994.8              377    355.0          11.9   \n",
       "3                993.6                0      NaN          15.1   \n",
       "4                992.9              461    355.0          11.9   \n",
       "\n",
       "  Measurement Timestamp Label                        Measurement ID  \n",
       "0         09/27/2018 10:00 AM  63rdStreetWeatherStation201809271000  \n",
       "1         09/27/2018 11:00 AM  63rdStreetWeatherStation201809271100  \n",
       "2          09/27/2018 1:00 PM  63rdStreetWeatherStation201809271300  \n",
       "3          09/27/2018 1:00 PM      FosterWeatherStation201809271300  \n",
       "4          09/27/2018 3:00 PM  63rdStreetWeatherStation201809271500  "
      ]
     },
     "execution_count": 5,
     "metadata": {},
     "output_type": "execute_result"
    }
   ],
   "source": [
    "# printing a few rows:\n",
    "raw_data.head()"
   ]
  },
  {
   "cell_type": "code",
   "execution_count": 9,
   "metadata": {},
   "outputs": [
    {
     "data": {
      "text/plain": [
       "(156051, 18)"
      ]
     },
     "execution_count": 9,
     "metadata": {},
     "output_type": "execute_result"
    }
   ],
   "source": [
    "raw_data.shape"
   ]
  },
  {
   "cell_type": "code",
   "execution_count": 6,
   "metadata": {},
   "outputs": [
    {
     "data": {
      "text/plain": [
       "Index(['Station Name', 'Measurement Timestamp', 'Air Temperature',\n",
       "       'Wet Bulb Temperature', 'Humidity', 'Rain Intensity', 'Interval Rain',\n",
       "       'Total Rain', 'Precipitation Type', 'Wind Direction', 'Wind Speed',\n",
       "       'Maximum Wind Speed', 'Barometric Pressure', 'Solar Radiation',\n",
       "       'Heading', 'Battery Life', 'Measurement Timestamp Label',\n",
       "       'Measurement ID'],\n",
       "      dtype='object')"
      ]
     },
     "execution_count": 6,
     "metadata": {},
     "output_type": "execute_result"
    }
   ],
   "source": [
    "# printing the columns:\n",
    "raw_data.columns"
   ]
  },
  {
   "cell_type": "code",
   "execution_count": 7,
   "metadata": {},
   "outputs": [
    {
     "name": "stdout",
     "output_type": "stream",
     "text": [
      "<class 'pandas.core.frame.DataFrame'>\n",
      "RangeIndex: 156051 entries, 0 to 156050\n",
      "Data columns (total 18 columns):\n",
      " #   Column                       Non-Null Count   Dtype  \n",
      "---  ------                       --------------   -----  \n",
      " 0   Station Name                 156051 non-null  object \n",
      " 1   Measurement Timestamp        156051 non-null  object \n",
      " 2   Air Temperature              155976 non-null  float64\n",
      " 3   Wet Bulb Temperature         100746 non-null  float64\n",
      " 4   Humidity                     156051 non-null  int64  \n",
      " 5   Rain Intensity               100746 non-null  float64\n",
      " 6   Interval Rain                156051 non-null  float64\n",
      " 7   Total Rain                   100746 non-null  float64\n",
      " 8   Precipitation Type           100746 non-null  float64\n",
      " 9   Wind Direction               156051 non-null  int64  \n",
      " 10  Wind Speed                   156051 non-null  float64\n",
      " 11  Maximum Wind Speed           156051 non-null  float64\n",
      " 12  Barometric Pressure          155905 non-null  float64\n",
      " 13  Solar Radiation              156051 non-null  int64  \n",
      " 14  Heading                      100746 non-null  float64\n",
      " 15  Battery Life                 156051 non-null  float64\n",
      " 16  Measurement Timestamp Label  156051 non-null  object \n",
      " 17  Measurement ID               156051 non-null  object \n",
      "dtypes: float64(11), int64(3), object(4)\n",
      "memory usage: 21.4+ MB\n"
     ]
    }
   ],
   "source": [
    "# Checking the info:    \n",
    "raw_data.info()"
   ]
  },
  {
   "cell_type": "code",
   "execution_count": 8,
   "metadata": {},
   "outputs": [
    {
     "data": {
      "text/plain": [
       "Station Name                       0\n",
       "Measurement Timestamp              0\n",
       "Air Temperature                   75\n",
       "Wet Bulb Temperature           55305\n",
       "Humidity                           0\n",
       "Rain Intensity                 55305\n",
       "Interval Rain                      0\n",
       "Total Rain                     55305\n",
       "Precipitation Type             55305\n",
       "Wind Direction                     0\n",
       "Wind Speed                         0\n",
       "Maximum Wind Speed                 0\n",
       "Barometric Pressure              146\n",
       "Solar Radiation                    0\n",
       "Heading                        55305\n",
       "Battery Life                       0\n",
       "Measurement Timestamp Label        0\n",
       "Measurement ID                     0\n",
       "dtype: int64"
      ]
     },
     "execution_count": 8,
     "metadata": {},
     "output_type": "execute_result"
    }
   ],
   "source": [
    "# Check the null values:\n",
    "raw_data.isnull().sum()"
   ]
  },
  {
   "cell_type": "code",
   "execution_count": null,
   "metadata": {},
   "outputs": [],
   "source": []
  }
 ],
 "metadata": {
  "kernelspec": {
   "display_name": "base",
   "language": "python",
   "name": "python3"
  },
  "language_info": {
   "codemirror_mode": {
    "name": "ipython",
    "version": 3
   },
   "file_extension": ".py",
   "mimetype": "text/x-python",
   "name": "python",
   "nbconvert_exporter": "python",
   "pygments_lexer": "ipython3",
   "version": "3.10.9"
  }
 },
 "nbformat": 4,
 "nbformat_minor": 2
}
